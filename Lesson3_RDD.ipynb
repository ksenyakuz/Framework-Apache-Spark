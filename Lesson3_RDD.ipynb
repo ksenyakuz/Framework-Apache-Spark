{
  "nbformat": 4,
  "nbformat_minor": 0,
  "metadata": {
    "colab": {
      "provenance": []
    },
    "kernelspec": {
      "name": "python3",
      "display_name": "Python 3"
    },
    "language_info": {
      "name": "python"
    }
  },
  "cells": [
    {
      "cell_type": "markdown",
      "metadata": {
        "id": "8Zc4sdy0s35D"
      },
      "source": [
        "# Создаём точку входа в Spark"
      ]
    },
    {
      "cell_type": "code",
      "source": [
        "!pip install pyspark"
      ],
      "metadata": {
        "id": "xJoWfu_FBnqu",
        "outputId": "b049ccf4-cf86-4ef4-ed67-7890f0c2ef74",
        "colab": {
          "base_uri": "https://localhost:8080/"
        }
      },
      "execution_count": 63,
      "outputs": [
        {
          "output_type": "stream",
          "name": "stdout",
          "text": [
            "Looking in indexes: https://pypi.org/simple, https://us-python.pkg.dev/colab-wheels/public/simple/\n",
            "Requirement already satisfied: pyspark in /usr/local/lib/python3.10/dist-packages (3.4.0)\n",
            "Requirement already satisfied: py4j==0.10.9.7 in /usr/local/lib/python3.10/dist-packages (from pyspark) (0.10.9.7)\n"
          ]
        }
      ]
    },
    {
      "cell_type": "code",
      "metadata": {
        "id": "idrMQH4dj605"
      },
      "source": [
        "from pyspark.sql import SparkSession\n",
        "\n",
        "spark = SparkSession.builder\\\n",
        "        .master('local[2]')\\\n",
        "        .appName('Lesson_2')\\\n",
        "        .config('spark.ui.port', '4050')\\\n",
        "        .config('spark.executor.instances', 2)\\\n",
        "        .config('spark.executor.memory', '4g')\\\n",
        "        .config('spark.executor.cores', 2)\\\n",
        "        .getOrCreate()\n",
        "\n",
        "sc = spark.sparkContext"
      ],
      "execution_count": 64,
      "outputs": []
    },
    {
      "cell_type": "code",
      "source": [
        "def beautiful_print(rdd, num, title, line_break=0):\n",
        "\n",
        "    if line_break:\n",
        "        for i, column in enumerate(title):\n",
        "            if i % line_break == 0 and i != 0:\n",
        "                print('\\n', end='')\n",
        "            print(column, end=', ')\n",
        "        print('\\n')\n",
        "    else:\n",
        "        print(title)\n",
        "    for row in rdd.take(num):\n",
        "        print('\\t', row)"
      ],
      "metadata": {
        "id": "my6MPXg9B3wD"
      },
      "execution_count": 65,
      "outputs": []
    },
    {
      "cell_type": "markdown",
      "metadata": {
        "id": "VrBE3PdXtOwT"
      },
      "source": [
        "# Самостоятельная работа\n",
        "\n",
        "Требуется выяснить:\n",
        "1. Какое соотношение сторон экрана телефона самое популярное,\n",
        "2. Плотность пикселей у экрана.\n",
        "\n",
        "Можно использовать только rdd.\n"
      ]
    },
    {
      "cell_type": "code",
      "source": [
        "import requests\n",
        "import matplotlib.pyplot as plt\n",
        "\n",
        "import numpy as np\n",
        "import seaborn as sns\n",
        "\n",
        "import math"
      ],
      "metadata": {
        "id": "5r99cADqB9ED"
      },
      "execution_count": 66,
      "outputs": []
    },
    {
      "cell_type": "markdown",
      "metadata": {
        "id": "FjAfrNtXSKBz"
      },
      "source": [
        "## Считывание данных\n",
        "Данные взяты отсюда: https://www.kaggle.com/iabhishekofficial/mobile-price-classification\n",
        "Скачиваем и копируем в папку с нотебуком\n",
        "\n",
        "Внутри содержится следующая информация:\n",
        "\n",
        "* id: ID\n",
        "* battery_power: Total energy a battery can store in one time (mAh)\n",
        "* blue: Support bluetooth or not\n",
        "* clock_speed: Speed at which microprocessor executes instructions\n",
        "* dual_sim: Support dual sim or not\n",
        "* fc: Front Camera mega pixels\n",
        "* four_g: Support 4G or not\n",
        "* int_memory: Internal Memory (GB)\n",
        "* m_dep: Mobile Depth (cm)\n",
        "* mobile_wt: Weight of mobile phone\n",
        "* n_cores: Number of cores of processor\n",
        "* pc: Primary Camera mega pixels\n",
        "* px_height: Pixel Resolution Height\n",
        "* px_width: Pixel Resolution Width\n",
        "* ram: Random Access Memory (MB)\n",
        "* sc_h: Screen Height of mobile (cm)\n",
        "* sc_w: Screen Width of mobile (cm)\n",
        "* talk_time: Time that a single battery charge will last\n",
        "* three_g: Support 3G or not\n",
        "* touch_screen: Has touch screen or not\n",
        "* wifi: Support wifi or not"
      ]
    },
    {
      "cell_type": "code",
      "metadata": {
        "id": "3VyKjYOSkLlp"
      },
      "source": [
        "train_response = requests.get('https://drive.google.com/file/d/13lRX0J_fDADB1g6OTJLH5hS3gKEymX9J')\n",
        "with open('train.csv', 'wb') as file:\n",
        "    file.write(train_response.content)\n",
        "data_train = sc.textFile('train.csv')\n",
        "\n",
        "test_response = requests.get('https://drive.google.com/file/d/1U3wGRi5RTpSIdCCr2_N7zTPgUtwEKbH0')\n",
        "with open('test.csv', 'wb') as file:\n",
        "    file.write(test_response.content)\n",
        "data_test = sc.textFile('test.csv')"
      ],
      "execution_count": 67,
      "outputs": []
    },
    {
      "cell_type": "code",
      "source": [
        "def get_size(rdd, columns, name):\n",
        "    try:\n",
        "        print(f\"{name} size: {rdd.count()} x {len(columns.split(','))}\")\n",
        "    except AttributeError:\n",
        "        print(f\"{name} size: {rdd.count()} x {len(' '.join(columns).split(','))}\")\n",
        "\n",
        "\n",
        "train = sc.textFile('train.csv')\n",
        "beautiful_print(train, 3, 'Train:')\n",
        "get_size(train, train.first(), 'train')"
      ],
      "metadata": {
        "id": "sF82KLaRCUcx",
        "outputId": "881de6c7-10d2-4ff7-f59b-78fe4248ef4a",
        "colab": {
          "base_uri": "https://localhost:8080/"
        }
      },
      "execution_count": 68,
      "outputs": [
        {
          "output_type": "stream",
          "name": "stdout",
          "text": [
            "Train:\n",
            "\t battery_power,blue,clock_speed,dual_sim,fc,four_g,int_memory,m_dep,mobile_wt,n_cores,pc,px_height,px_width,ram,sc_h,sc_w,talk_time,three_g,touch_screen,wifi,price_range\n",
            "\t 842,0,2.2,0,1,0,7,0.6,188,2,2,20,756,2549,9,7,19,0,0,1,1\n",
            "\t 1021,1,0.5,1,0,1,53,0.7,136,3,6,905,1988,2631,17,3,7,1,1,0,2\n",
            "train size: 2001 x 21\n"
          ]
        }
      ]
    },
    {
      "cell_type": "code",
      "metadata": {
        "id": "CSZJ2D5EuErD"
      },
      "source": [
        "# Задание 1\n",
        "#  Прочитайте test.csv"
      ],
      "execution_count": null,
      "outputs": []
    },
    {
      "cell_type": "code",
      "source": [
        "test = sc.textFile('test.csv')\n",
        "beautiful_print(test, 3, 'Test:')\n",
        "get_size(test, test.first(), 'test')"
      ],
      "metadata": {
        "id": "iR_10UfKCaUm",
        "outputId": "597afe68-5646-4374-aba9-4d862eedbe43",
        "colab": {
          "base_uri": "https://localhost:8080/"
        }
      },
      "execution_count": 69,
      "outputs": [
        {
          "output_type": "stream",
          "name": "stdout",
          "text": [
            "Test:\n",
            "\t id,battery_power,blue,clock_speed,dual_sim,fc,four_g,int_memory,m_dep,mobile_wt,n_cores,pc,px_height,px_width,ram,sc_h,sc_w,talk_time,three_g,touch_screen,wifi\n",
            "\t 1,1043,1,1.8,1,14,0,5,0.1,193,3,16,226,1412,3476,12,7,2,0,1,0\n",
            "\t 2,841,1,0.5,1,4,1,61,0.8,191,5,12,746,857,3895,6,0,7,1,0,0\n",
            "test size: 1001 x 21\n"
          ]
        }
      ]
    },
    {
      "cell_type": "markdown",
      "metadata": {
        "id": "5pNi9czovHNh"
      },
      "source": [
        "##  Преобразуем train и test"
      ]
    },
    {
      "cell_type": "code",
      "metadata": {
        "id": "fiA-_A4cueiI",
        "outputId": "037a326f-39ea-4581-8024-409a735d176b",
        "colab": {
          "base_uri": "https://localhost:8080/"
        }
      },
      "source": [
        "train_first_row = train.first()\n",
        "train = train\\\n",
        "    .filter(lambda row: row != train_first_row)\\\n",
        "    .map(lambda row: [float(el) for el in row.split(',')])\n",
        "    \n",
        "train_header = train_first_row.split(',')\n",
        "beautiful_print(train, 3, train_header, line_break=8)"
      ],
      "execution_count": 70,
      "outputs": [
        {
          "output_type": "stream",
          "name": "stdout",
          "text": [
            "battery_power, blue, clock_speed, dual_sim, fc, four_g, int_memory, m_dep, \n",
            "mobile_wt, n_cores, pc, px_height, px_width, ram, sc_h, sc_w, \n",
            "talk_time, three_g, touch_screen, wifi, price_range, \n",
            "\n",
            "\t [842.0, 0.0, 2.2, 0.0, 1.0, 0.0, 7.0, 0.6, 188.0, 2.0, 2.0, 20.0, 756.0, 2549.0, 9.0, 7.0, 19.0, 0.0, 0.0, 1.0, 1.0]\n",
            "\t [1021.0, 1.0, 0.5, 1.0, 0.0, 1.0, 53.0, 0.7, 136.0, 3.0, 6.0, 905.0, 1988.0, 2631.0, 17.0, 3.0, 7.0, 1.0, 1.0, 0.0, 2.0]\n",
            "\t [563.0, 1.0, 0.5, 1.0, 2.0, 1.0, 41.0, 0.9, 145.0, 5.0, 6.0, 1263.0, 1716.0, 2603.0, 11.0, 2.0, 9.0, 1.0, 1.0, 0.0, 2.0]\n"
          ]
        }
      ]
    },
    {
      "cell_type": "code",
      "metadata": {
        "id": "eXdImLV9rGSW"
      },
      "source": [
        "# Задание 2\n",
        "#  Приведите test.csv к аналогичному виду, что и train\n"
      ],
      "execution_count": null,
      "outputs": []
    },
    {
      "cell_type": "code",
      "source": [
        "test_first_row = test.first()\n",
        "test = test\\\n",
        "    .filter(lambda row: row != test_first_row)\\\n",
        "    .map(lambda row: [float(el) for el in row.split(',')])\n",
        "    \n",
        "test_header = test_first_row.split(',')\n",
        "beautiful_print(test, 3, test_header, line_break=8)"
      ],
      "metadata": {
        "id": "qGBEHQJBCiqe",
        "outputId": "d431e366-125c-4903-fd3b-d6a786a0da0d",
        "colab": {
          "base_uri": "https://localhost:8080/"
        }
      },
      "execution_count": 71,
      "outputs": [
        {
          "output_type": "stream",
          "name": "stdout",
          "text": [
            "id, battery_power, blue, clock_speed, dual_sim, fc, four_g, int_memory, \n",
            "m_dep, mobile_wt, n_cores, pc, px_height, px_width, ram, sc_h, \n",
            "sc_w, talk_time, three_g, touch_screen, wifi, \n",
            "\n",
            "\t [1.0, 1043.0, 1.0, 1.8, 1.0, 14.0, 0.0, 5.0, 0.1, 193.0, 3.0, 16.0, 226.0, 1412.0, 3476.0, 12.0, 7.0, 2.0, 0.0, 1.0, 0.0]\n",
            "\t [2.0, 841.0, 1.0, 0.5, 1.0, 4.0, 1.0, 61.0, 0.8, 191.0, 5.0, 12.0, 746.0, 857.0, 3895.0, 6.0, 0.0, 7.0, 1.0, 0.0, 0.0]\n",
            "\t [3.0, 1807.0, 1.0, 2.8, 0.0, 1.0, 0.0, 27.0, 0.9, 186.0, 3.0, 4.0, 1270.0, 1366.0, 2396.0, 17.0, 10.0, 10.0, 0.0, 1.0, 1.0]\n"
          ]
        }
      ]
    },
    {
      "cell_type": "code",
      "source": [
        "price_range = train.map(lambda x: x[-1]).collect()\n",
        "id = test.map(lambda x: x[1]).collect()\n",
        "\n",
        "train = train.map(lambda x: x[:-1])\n",
        "test = test.map(lambda x: x[1:])\n",
        "train_header.pop(-1)\n",
        "test_header.pop(0)\n",
        "header = train_header.copy()\n",
        "\n",
        "beautiful_print(train, 3, train_header, line_break=8)\n",
        "print()\n",
        "beautiful_print(test, 3, test_header, line_break=8)"
      ],
      "metadata": {
        "id": "73MbmO1_CmOU",
        "outputId": "51d9a7ee-75d6-4e10-eac6-4e4c9d194e19",
        "colab": {
          "base_uri": "https://localhost:8080/"
        }
      },
      "execution_count": 72,
      "outputs": [
        {
          "output_type": "stream",
          "name": "stdout",
          "text": [
            "battery_power, blue, clock_speed, dual_sim, fc, four_g, int_memory, m_dep, \n",
            "mobile_wt, n_cores, pc, px_height, px_width, ram, sc_h, sc_w, \n",
            "talk_time, three_g, touch_screen, wifi, \n",
            "\n",
            "\t [842.0, 0.0, 2.2, 0.0, 1.0, 0.0, 7.0, 0.6, 188.0, 2.0, 2.0, 20.0, 756.0, 2549.0, 9.0, 7.0, 19.0, 0.0, 0.0, 1.0]\n",
            "\t [1021.0, 1.0, 0.5, 1.0, 0.0, 1.0, 53.0, 0.7, 136.0, 3.0, 6.0, 905.0, 1988.0, 2631.0, 17.0, 3.0, 7.0, 1.0, 1.0, 0.0]\n",
            "\t [563.0, 1.0, 0.5, 1.0, 2.0, 1.0, 41.0, 0.9, 145.0, 5.0, 6.0, 1263.0, 1716.0, 2603.0, 11.0, 2.0, 9.0, 1.0, 1.0, 0.0]\n",
            "\n",
            "battery_power, blue, clock_speed, dual_sim, fc, four_g, int_memory, m_dep, \n",
            "mobile_wt, n_cores, pc, px_height, px_width, ram, sc_h, sc_w, \n",
            "talk_time, three_g, touch_screen, wifi, \n",
            "\n",
            "\t [1043.0, 1.0, 1.8, 1.0, 14.0, 0.0, 5.0, 0.1, 193.0, 3.0, 16.0, 226.0, 1412.0, 3476.0, 12.0, 7.0, 2.0, 0.0, 1.0, 0.0]\n",
            "\t [841.0, 1.0, 0.5, 1.0, 4.0, 1.0, 61.0, 0.8, 191.0, 5.0, 12.0, 746.0, 857.0, 3895.0, 6.0, 0.0, 7.0, 1.0, 0.0, 0.0]\n",
            "\t [1807.0, 1.0, 2.8, 0.0, 1.0, 0.0, 27.0, 0.9, 186.0, 3.0, 4.0, 1270.0, 1366.0, 2396.0, 17.0, 10.0, 10.0, 0.0, 1.0, 1.0]\n"
          ]
        }
      ]
    },
    {
      "cell_type": "markdown",
      "metadata": {
        "id": "kjCdeAS4v1Vc"
      },
      "source": [
        "## Объединим train и test\n",
        "Найти нужную функцию можно [здесь](https://spark.apache.org/docs/3.1.1/api/python/reference/pyspark.html#rdd-apis)\n",
        "\n",
        "PS: нужно сделать средсвтвами rdd pd.concat([train, test,], axis=0)"
      ]
    },
    {
      "cell_type": "code",
      "metadata": {
        "id": "AKfK55sLuuAT"
      },
      "source": [
        "# Задание 3\n",
        "#  Объедините данные"
      ],
      "execution_count": null,
      "outputs": []
    },
    {
      "cell_type": "code",
      "source": [
        "rdd = sc.union([train, test])\n",
        "beautiful_print(rdd, 3, header, line_break=8)\n",
        "\n",
        "get_size(rdd, header, 'RDD')"
      ],
      "metadata": {
        "id": "Cgk20UaXCrRy",
        "outputId": "38fc3aa2-02c9-49ce-eac0-8d47008a3484",
        "colab": {
          "base_uri": "https://localhost:8080/"
        }
      },
      "execution_count": 73,
      "outputs": [
        {
          "output_type": "stream",
          "name": "stdout",
          "text": [
            "battery_power, blue, clock_speed, dual_sim, fc, four_g, int_memory, m_dep, \n",
            "mobile_wt, n_cores, pc, px_height, px_width, ram, sc_h, sc_w, \n",
            "talk_time, three_g, touch_screen, wifi, \n",
            "\n",
            "\t [842.0, 0.0, 2.2, 0.0, 1.0, 0.0, 7.0, 0.6, 188.0, 2.0, 2.0, 20.0, 756.0, 2549.0, 9.0, 7.0, 19.0, 0.0, 0.0, 1.0]\n",
            "\t [1021.0, 1.0, 0.5, 1.0, 0.0, 1.0, 53.0, 0.7, 136.0, 3.0, 6.0, 905.0, 1988.0, 2631.0, 17.0, 3.0, 7.0, 1.0, 1.0, 0.0]\n",
            "\t [563.0, 1.0, 0.5, 1.0, 2.0, 1.0, 41.0, 0.9, 145.0, 5.0, 6.0, 1263.0, 1716.0, 2603.0, 11.0, 2.0, 9.0, 1.0, 1.0, 0.0]\n",
            "RDD size: 3000 x 1\n"
          ]
        }
      ]
    },
    {
      "cell_type": "markdown",
      "metadata": {
        "id": "GxGGHqRyx7XG"
      },
      "source": [
        "## Рассчитайте соотношение сторон экрана и его плотность пикселей"
      ]
    },
    {
      "cell_type": "code",
      "metadata": {
        "id": "HckZvR72xs7W"
      },
      "source": [
        "# Задание 4\n",
        "#  Рассчитайте соотношение сторон экрана и найдите широкоформатные, выведите это распределение"
      ],
      "execution_count": null,
      "outputs": []
    },
    {
      "cell_type": "code",
      "metadata": {
        "id": "AlaMbUMwvGsp"
      },
      "source": [
        "# Задание 5\n",
        "#  Рассчитайте плотность пикселей (лучше ppi), выведите это распределение"
      ],
      "execution_count": null,
      "outputs": []
    },
    {
      "cell_type": "code",
      "source": [
        "def add_ratio(width, height):\n",
        "    if height == 0:\n",
        "        height += 1e-10\n",
        "    return np.round(width/height, 2)\n",
        "\n",
        "def add_pixel_density(px_width, px_height, sc_h, sc_w):\n",
        "    return np.round(np.sqrt((px_height ** 2 + px_width ** 2) / np.sqrt((sc_h ** 2 + sc_w ** 2))))\n",
        "\n",
        "\n",
        "sc_h_ = header.index('sc_h')\n",
        "sc_w_ = header.index('sc_w')\n",
        "px_height_ = header.index('px_height')\n",
        "px_width_ = header.index('px_width')\n",
        "\n",
        "\n",
        "rdd = rdd.map(lambda x: (*x, add_ratio(x[sc_w_], x[sc_h_]))) \\\n",
        "         .map(lambda x: (*x, add_pixel_density(x[px_width_], x[px_height_], x[sc_h_], x[sc_w_])))\n",
        "\n",
        "header.append('aspect_ratio')\n",
        "header.append('pixel_density')\n",
        "\n",
        "beautiful_print(rdd, 3, header, line_break=8)"
      ],
      "metadata": {
        "id": "V88GVz8ECxff",
        "outputId": "3353d20e-2719-4e16-9ab7-35dc7ad48dd2",
        "colab": {
          "base_uri": "https://localhost:8080/"
        }
      },
      "execution_count": 74,
      "outputs": [
        {
          "output_type": "stream",
          "name": "stdout",
          "text": [
            "battery_power, blue, clock_speed, dual_sim, fc, four_g, int_memory, m_dep, \n",
            "mobile_wt, n_cores, pc, px_height, px_width, ram, sc_h, sc_w, \n",
            "talk_time, three_g, touch_screen, wifi, aspect_ratio, pixel_density, \n",
            "\n",
            "\t (842.0, 0.0, 2.2, 0.0, 1.0, 0.0, 7.0, 0.6, 188.0, 2.0, 2.0, 20.0, 756.0, 2549.0, 9.0, 7.0, 19.0, 0.0, 0.0, 1.0, 0.78, 224.0)\n",
            "\t (1021.0, 1.0, 0.5, 1.0, 0.0, 1.0, 53.0, 0.7, 136.0, 3.0, 6.0, 905.0, 1988.0, 2631.0, 17.0, 3.0, 7.0, 1.0, 1.0, 0.0, 0.18, 526.0)\n",
            "\t (563.0, 1.0, 0.5, 1.0, 2.0, 1.0, 41.0, 0.9, 145.0, 5.0, 6.0, 1263.0, 1716.0, 2603.0, 11.0, 2.0, 9.0, 1.0, 1.0, 0.0, 0.18, 637.0)\n"
          ]
        }
      ]
    },
    {
      "cell_type": "code",
      "source": [
        "for i in range(-2, 0):\n",
        "    spam = rdd.map(lambda x: (x[i], 1)).reduceByKey(lambda x, y: x + y).sortBy(lambda x: x[0], ascending=True).collect()\n",
        "\n",
        "    x, y = zip(*spam)\n",
        "\n",
        "    plt.figure(figsize=(12, 3))\n",
        "    sns.regplot(x=list(x), y=list(y), scatter_kws={'s': 8, 'color': 'green', \n",
        "                                                   }, \n",
        "                line_kws={'lw': 1, 'color': 'red'})\n",
        "    \n",
        "    plt.title(header[i], fontsize=14, fontweight='bold')\n",
        "    if len(x) < 100:\n",
        "        plt.grid(linewidth=.5, linestyle='--', c='grey')\n",
        "        plt.xticks(x, rotation=90, fontsize=6)\n",
        "    else:\n",
        "       plt.xticks([]);"
      ],
      "metadata": {
        "id": "t9VargmvC3i0",
        "outputId": "e3a7cd6b-a80b-4229-c766-c0b958779314",
        "colab": {
          "base_uri": "https://localhost:8080/",
          "height": 593
        }
      },
      "execution_count": 75,
      "outputs": [
        {
          "output_type": "display_data",
          "data": {
            "text/plain": [
              "<Figure size 1200x300 with 1 Axes>"
            ],
            "image/png": "[encoded data removed]"
          },
          "metadata": {}
        },
        {
          "output_type": "display_data",
          "data": {
            "text/plain": [
              "<Figure size 1200x300 with 1 Axes>"
            ],
            "image/png": "[encoded data removed]"
          },
          "metadata": {}
        }
      ]
    },
    {
      "cell_type": "markdown",
      "metadata": {
        "id": "PNAGeyOmzEN4"
      },
      "source": [
        "# JOIN\n",
        "Повторите вышеописанное задание с помощью одной из функций ниже (отдельно рассчитайте для train и test, затем объедините результат)\n",
        "\n",
        "Пример для двух RDDs: (rdd = {(1, 2), (3, 4), (3, 6)} other = {(3, 9)})\n",
        "\n",
        "Имя функции |\tPurpose |\tExample |\tResult\n",
        "------------- |\t------- |\t------- |\t------\n",
        "subtractByKey |Remove elements with a key present in the other RDD.| rdd.subtractByKey(other) | {(1, 2)}\n",
        "join | Perform an inner join between two RDDs. | rdd.join(other) | {(3, (4, 9)), (3, (6, 9))}\n",
        "rightOuterJoin | Perform a join between two RDDs where the key must be present in the first RDD. | rdd.rightOuterJoin(other) | {(3,(Some(4),9)), (3,(Some(6),9))}leftOuterJoin | Perform a join between two RDDs where the key must be present in the other RDD. | rdd.\n",
        "leftOuterJoin(other) | {(1,(2,None)), (3,(4,Some(9))), (3,(6,Some(9)))}\n",
        "cogroup | Group data from both RDDs sharing the same key. | rdd.cogroup(other) | {(1,([2],[])), (3,([4, 6],[9]))}\n"
      ]
    },
    {
      "cell_type": "code",
      "metadata": {
        "id": "kRb1q9QizDiH"
      },
      "source": [
        "# Задание 6\n",
        "#  Рассчитайте для train и test, затем объедините результат"
      ],
      "execution_count": null,
      "outputs": []
    },
    {
      "cell_type": "code",
      "source": [
        "beautiful_print(train, 3, train_header, line_break=8)\n",
        "get_size(train, train_header, 'train')\n",
        "print('___'*50, '\\n')\n",
        "beautiful_print(test, 3, test_header, line_break=8)\n",
        "get_size(test, test_header, 'test')"
      ],
      "metadata": {
        "id": "TNeHjzueD2Cx",
        "outputId": "8489c796-7445-4e42-d465-375f27aae6ea",
        "colab": {
          "base_uri": "https://localhost:8080/"
        }
      },
      "execution_count": 76,
      "outputs": [
        {
          "output_type": "stream",
          "name": "stdout",
          "text": [
            "battery_power, blue, clock_speed, dual_sim, fc, four_g, int_memory, m_dep, \n",
            "mobile_wt, n_cores, pc, px_height, px_width, ram, sc_h, sc_w, \n",
            "talk_time, three_g, touch_screen, wifi, \n",
            "\n",
            "\t [842.0, 0.0, 2.2, 0.0, 1.0, 0.0, 7.0, 0.6, 188.0, 2.0, 2.0, 20.0, 756.0, 2549.0, 9.0, 7.0, 19.0, 0.0, 0.0, 1.0]\n",
            "\t [1021.0, 1.0, 0.5, 1.0, 0.0, 1.0, 53.0, 0.7, 136.0, 3.0, 6.0, 905.0, 1988.0, 2631.0, 17.0, 3.0, 7.0, 1.0, 1.0, 0.0]\n",
            "\t [563.0, 1.0, 0.5, 1.0, 2.0, 1.0, 41.0, 0.9, 145.0, 5.0, 6.0, 1263.0, 1716.0, 2603.0, 11.0, 2.0, 9.0, 1.0, 1.0, 0.0]\n",
            "train size: 2000 x 1\n",
            "______________________________________________________________________________________________________________________________________________________ \n",
            "\n",
            "battery_power, blue, clock_speed, dual_sim, fc, four_g, int_memory, m_dep, \n",
            "mobile_wt, n_cores, pc, px_height, px_width, ram, sc_h, sc_w, \n",
            "talk_time, three_g, touch_screen, wifi, \n",
            "\n",
            "\t [1043.0, 1.0, 1.8, 1.0, 14.0, 0.0, 5.0, 0.1, 193.0, 3.0, 16.0, 226.0, 1412.0, 3476.0, 12.0, 7.0, 2.0, 0.0, 1.0, 0.0]\n",
            "\t [841.0, 1.0, 0.5, 1.0, 4.0, 1.0, 61.0, 0.8, 191.0, 5.0, 12.0, 746.0, 857.0, 3895.0, 6.0, 0.0, 7.0, 1.0, 0.0, 0.0]\n",
            "\t [1807.0, 1.0, 2.8, 0.0, 1.0, 0.0, 27.0, 0.9, 186.0, 3.0, 4.0, 1270.0, 1366.0, 2396.0, 17.0, 10.0, 10.0, 0.0, 1.0, 1.0]\n",
            "test size: 1000 x 1\n"
          ]
        }
      ]
    },
    {
      "cell_type": "code",
      "source": [
        "sc_h_ = train_header.index('sc_h')\n",
        "sc_w_ = train_header.index('sc_w')\n",
        "px_height_ = train_header.index('px_height')\n",
        "px_width_ = train_header.index('px_width')\n",
        "\n",
        "train_with_new_cols = train.map(lambda x: (*x, add_ratio(x[sc_w_], x[sc_h_]))) \\\n",
        "    .map(lambda x: (*x, add_pixel_density(x[px_width_], x[px_height_], x[sc_h_], x[sc_w_])))\n",
        "\n",
        "test_with_new_cols = test.map(lambda x: (*x, add_ratio(x[sc_w_], x[sc_h_]))) \\\n",
        "    .map(lambda x: (*x, add_pixel_density(x[px_width_], x[px_height_], x[sc_h_], x[sc_w_])))\n",
        "\n",
        "new_header = header + ['aspect_ratio', 'pixel_density']\n",
        "\n",
        "rdd_with_new_cols = sc.union([train_with_new_cols, test_with_new_cols])\n",
        "\n",
        "beautiful_print(rdd_with_new_cols, 3, new_header, line_break=8)\n",
        "get_size(rdd_with_new_cols, new_header, 'rdd_with_new_cols')"
      ],
      "metadata": {
        "id": "9wNN-6wmD2vF",
        "outputId": "6bd9208f-b4ec-4725-8928-a2fcaef8788f",
        "colab": {
          "base_uri": "https://localhost:8080/"
        }
      },
      "execution_count": 77,
      "outputs": [
        {
          "output_type": "stream",
          "name": "stdout",
          "text": [
            "battery_power, blue, clock_speed, dual_sim, fc, four_g, int_memory, m_dep, \n",
            "mobile_wt, n_cores, pc, px_height, px_width, ram, sc_h, sc_w, \n",
            "talk_time, three_g, touch_screen, wifi, aspect_ratio, pixel_density, aspect_ratio, pixel_density, \n",
            "\n",
            "\t (842.0, 0.0, 2.2, 0.0, 1.0, 0.0, 7.0, 0.6, 188.0, 2.0, 2.0, 20.0, 756.0, 2549.0, 9.0, 7.0, 19.0, 0.0, 0.0, 1.0, 0.78, 224.0)\n",
            "\t (1021.0, 1.0, 0.5, 1.0, 0.0, 1.0, 53.0, 0.7, 136.0, 3.0, 6.0, 905.0, 1988.0, 2631.0, 17.0, 3.0, 7.0, 1.0, 1.0, 0.0, 0.18, 526.0)\n",
            "\t (563.0, 1.0, 0.5, 1.0, 2.0, 1.0, 41.0, 0.9, 145.0, 5.0, 6.0, 1263.0, 1716.0, 2603.0, 11.0, 2.0, 9.0, 1.0, 1.0, 0.0, 0.18, 637.0)\n",
            "rdd_with_new_cols size: 3000 x 1\n"
          ]
        }
      ]
    },
    {
      "cell_type": "code",
      "source": [
        "train_with_new_cols.join(test_with_new_cols).take(5)"
      ],
      "metadata": {
        "id": "VRXdQbWpE9bM",
        "outputId": "da34acd4-05da-4011-90a3-bc1df997bd8f",
        "colab": {
          "base_uri": "https://localhost:8080/"
        }
      },
      "execution_count": 78,
      "outputs": [
        {
          "output_type": "execute_result",
          "data": {
            "text/plain": [
              "[(1520.0, (1.0, 0.0)),\n",
              " (1520.0, (0.0, 0.0)),\n",
              " (1568.0, (1.0, 0.0)),\n",
              " (644.0, (1.0, 1.0)),\n",
              " (644.0, (1.0, 1.0))]"
            ]
          },
          "metadata": {},
          "execution_count": 78
        }
      ]
    }
  ]
}